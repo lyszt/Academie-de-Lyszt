{
  "nbformat": 4,
  "nbformat_minor": 0,
  "metadata": {
    "colab": {
      "provenance": []
    },
    "kernelspec": {
      "name": "python3",
      "display_name": "Python 3"
    },
    "language_info": {
      "name": "python"
    }
  },
  "cells": [
    {
      "cell_type": "markdown",
      "source": [
        "\n",
        "1 - Crie uma lista de temperaturas de dez países\n",
        "https://pt.wikipedia.org/wiki/Lista_de_pa%C3%ADses_por_extremos_meteorol%C3%B3gicos\n",
        "Escreva em cada célula de um notebook o acesso a elementos da lista para calcular a temperatura em graus Farenheit:\n",
        "C = (5 * (F-32) / 9).\n"
      ],
      "metadata": {
        "id": "uY5gEyJ57H51"
      }
    },
    {
      "cell_type": "code",
      "source": [],
      "metadata": {
        "id": "2woYv-iI7I58"
      },
      "execution_count": null,
      "outputs": []
    },
    {
      "cell_type": "code",
      "execution_count": null,
      "metadata": {
        "id": "PBZ-TjmMyguT"
      },
      "outputs": [],
      "source": [
        "countries_temperatures = [\n",
        "    {\"Country\": \"USA\", \"Temperature\": 28},\n",
        "    {\"Country\": \"Brazil\", \"Temperature\": 32},\n",
        "    {\"Country\": \"Canada\", \"Temperature\": 15},\n",
        "    {\"Country\": \"Germany\", \"Temperature\": 18},\n",
        "    {\"Country\": \"Australia\", \"Temperature\": 26},\n",
        "    {\"Country\": \"Japan\", \"Temperature\": 22},\n",
        "    {\"Country\": \"India\", \"Temperature\": 35},\n",
        "    {\"Country\": \"Russia\", \"Temperature\": 10},\n",
        "    {\"Country\": \"South Africa\", \"Temperature\": 30},\n",
        "    {\"Country\": \"France\", \"Temperature\": 20}\n",
        "]"
      ]
    },
    {
      "cell_type": "code",
      "source": [
        "for country in countries_temperatures:\n",
        "  print(f\"{country['Country']}: {(5 * (country['Temperature'] - 32) / 9):.2f} ° fahrenheit\")\n"
      ],
      "metadata": {
        "colab": {
          "base_uri": "https://localhost:8080/"
        },
        "id": "9i6dwxki2wpW",
        "outputId": "ed41d02d-5761-49c5-d47a-8cb8c21f9f0c"
      },
      "execution_count": null,
      "outputs": [
        {
          "output_type": "stream",
          "name": "stdout",
          "text": [
            "USA: -2.22 ° fahrenheit\n",
            "Brazil: 0.00 ° fahrenheit\n",
            "Canada: -9.44 ° fahrenheit\n",
            "Germany: -7.78 ° fahrenheit\n",
            "Australia: -3.33 ° fahrenheit\n",
            "Japan: -5.56 ° fahrenheit\n",
            "India: 1.67 ° fahrenheit\n",
            "Russia: -12.22 ° fahrenheit\n",
            "South Africa: -1.11 ° fahrenheit\n",
            "France: -6.67 ° fahrenheit\n"
          ]
        }
      ]
    },
    {
      "cell_type": "markdown",
      "source": [
        "Tendo como dados de entrada a altura média por país\n",
        "https://pt.wikipedia.org/wiki/Estatura\n",
        "crie um dicionário com 10 países, com chave como nome do país e valor como altura média, imprima em cada linha de um notebook o peso ideal:\n",
        "(72.7*altura) - 58\n",
        "por país, utilizando o dicionário e o operador de formatação (f'').\n"
      ],
      "metadata": {
        "id": "NFxJc0eR7KVM"
      }
    },
    {
      "cell_type": "code",
      "source": [
        "height_by_country = {\n",
        "    \"Netherlands\": 1.84,\n",
        "    \"Denmark\": 1.82,\n",
        "    \"Germany\": 1.81,\n",
        "    \"Norway\": 1.80,\n",
        "    \"Sweden\": 1.80,\n",
        "    \"Brazil\": 1.73,\n",
        "    \"USA\": 1.77,\n",
        "    \"India\": 1.65,\n",
        "    \"Japan\": 1.70,\n",
        "    \"Mexico\": 1.69\n",
        "}\n",
        "\n",
        "for country, height in height_by_country.items():\n",
        "    ideal_weight = (72.7 * height) - 58\n",
        "    print(f'{country}: Ideal weight = {ideal_weight:.2f} kg')"
      ],
      "metadata": {
        "colab": {
          "base_uri": "https://localhost:8080/"
        },
        "id": "na5_f1U07QCk",
        "outputId": "f3004b78-42ca-4e5d-826a-0ea6bc96791e"
      },
      "execution_count": null,
      "outputs": [
        {
          "output_type": "stream",
          "name": "stdout",
          "text": [
            "Netherlands: Ideal weight = 75.77 kg\n",
            "Denmark: Ideal weight = 74.31 kg\n",
            "Germany: Ideal weight = 73.59 kg\n",
            "Norway: Ideal weight = 72.86 kg\n",
            "Sweden: Ideal weight = 72.86 kg\n",
            "Brazil: Ideal weight = 67.77 kg\n",
            "USA: Ideal weight = 70.68 kg\n",
            "India: Ideal weight = 61.95 kg\n",
            "Japan: Ideal weight = 65.59 kg\n",
            "Mexico: Ideal weight = 64.86 kg\n"
          ]
        }
      ]
    },
    {
      "cell_type": "markdown",
      "source": [
        " Faça a conversão do valor de bolsas de pós-graduação de três países para Reais, imprimindo o salário de uma jornada de 40h semanais:\n",
        "https://exame.abril.com.br/carreira/confira-63-bolsas-para-estudar-em-paises-como-canada-eua-e-alemanha/\n",
        "Por hora trabalhada;\n",
        "Por mês;\n",
        "Por ano.\n",
        "**negrito**"
      ],
      "metadata": {
        "id": "zbNaNfM77vNr"
      }
    },
    {
      "cell_type": "code",
      "source": [
        "scholarships = {\n",
        "    'Canada': {\n",
        "        'monthly_cad': 2000,\n",
        "        'conversion_rate': 4.10\n",
        "    },\n",
        "    'USA': {\n",
        "        'monthly_usd': 2000,\n",
        "        'conversion_rate': 5.00\n",
        "    },\n",
        "    'Germany': {\n",
        "        'monthly_eur': 2000,\n",
        "        'conversion_rate': 5.60\n",
        "    }\n",
        "}\n",
        "converted_scholarships = {}\n",
        "for country, values in scholarships.items():\n",
        "    monthly_brl = values['monthly_cad'] * values['conversion_rate'] if country == 'Canada' else \\\n",
        "                  values['monthly_usd'] * values['conversion_rate'] if country == 'USA' else \\\n",
        "                  values['monthly_eur'] * values['conversion_rate']\n",
        "\n",
        "    hourly_brl = monthly_brl / 160\n",
        "    yearly_brl = monthly_brl * 12\n",
        "\n",
        "    converted_scholarships[country] = {\n",
        "        'mensal': round(monthly_brl, 2),\n",
        "        'por hora ': round(hourly_brl, 2),\n",
        "        'anual': round(yearly_brl, 2)\n",
        "    }\n",
        "\n",
        "print(converted_scholarships)\n"
      ],
      "metadata": {
        "id": "WppxR8m07m27",
        "colab": {
          "base_uri": "https://localhost:8080/"
        },
        "outputId": "363292d6-5c99-4d2a-b03f-092d0c00583e"
      },
      "execution_count": null,
      "outputs": [
        {
          "output_type": "stream",
          "name": "stdout",
          "text": [
            "{'Canada': {'mensal': 8200.0, 'por hora ': 51.25, 'anual': 98400.0}, 'USA': {'mensal': 10000.0, 'por hora ': 62.5, 'anual': 120000.0}, 'Germany': {'mensal': 11200.0, 'por hora ': 70.0, 'anual': 134400.0}}\n"
          ]
        }
      ]
    },
    {
      "cell_type": "markdown",
      "source": [
        "1 - Escreva código em uma célula, para, dado o elemento de uma lista de temperaturas acima, imprimir \"está frio\" se a temperatura for menor que um valor de uma variável t definida por você ou \"está calor\" caso contrário.\n",
        "\n"
      ],
      "metadata": {
        "id": "C8bTBjmCWQxS"
      }
    },
    {
      "cell_type": "code",
      "source": [
        "o\n",
        "t = 20\n",
        "\n",
        "for country in countries_temperatures:\n",
        "  if country['Temperature'] < t:\n",
        "    print(f\"Em {country['Country']} está frio.\")\n",
        "  else:\n",
        "    print(f\"Em {country['Country']} está calor.\")\n"
      ],
      "metadata": {
        "id": "umleMSV9WSMK"
      },
      "execution_count": null,
      "outputs": []
    },
    {
      "cell_type": "markdown",
      "source": [
        "2 - Um posto está vendendo combustíveis com a seguinte tabela de descontos:\n",
        "Álcool:\n",
        "até 20 litros, desconto de 3% por litro\n",
        "acima de 20 litros, desconto de 5% por litro\n",
        "Gasolina:\n",
        "até 20 litros, desconto de 4% por litro\n",
        "acima de 20 litros, desconto de 6% por litro\n",
        "Escreva um código que leia o número de litros vendidos, o tipo de combustível (codificado da seguinte forma: A-álcool, G-gasolina), calcule e imprima o valor a ser pago pelo cliente sabendo-se que o preço do litro da gasolina é R$ 2,50 o preço do litro do álcool é R$ 1,90.\n"
      ],
      "metadata": {
        "id": "pvKeMEMIWagQ"
      }
    },
    {
      "cell_type": "code",
      "source": [
        "litros_vendidos = float(input(\"Digite a quantidade de litros vendidos: \"))\n",
        "tipo_combustivel = input(\"Digite o tipo de combustível (A-álcool, G-gasolina): \").upper()\n",
        "\n",
        "preco_gasolina = 2.50\n",
        "preco_alcool = 1.90\n",
        "\n",
        "if tipo_combustivel == 'A':\n",
        "  if litros_vendidos <= 20:\n",
        "    desconto = 0.03\n",
        "  else:\n",
        "    desconto = 0.05\n",
        "  valor_total = (preco_alcool * litros_vendidos) * (1 - desconto)\n",
        "  print(f\"Valor a ser pago: R$ {valor_total:.2f}\")\n",
        "elif tipo_combustivel == 'G':\n",
        "  if litros_vendidos <= 20:\n",
        "    desconto = 0.04\n",
        "  else:\n",
        "    desconto = 0.06\n",
        "  valor_total = (preco_gasolina * litros_vendidos) * (1 - desconto)\n",
        "  print(f\"Valor a ser pago: R$ {valor_total:.2f}\")\n",
        "else:\n",
        "  print(\"Tipo de combustível inválido.\")\n"
      ],
      "metadata": {
        "id": "lnIrI_fPWknQ"
      },
      "execution_count": null,
      "outputs": []
    },
    {
      "cell_type": "markdown",
      "source": [
        "3 - Uma fruteira está vendendo frutas com a seguinte tabela de preços:\n",
        "                     Até 5 Kg           Acima de 5 Kg\n",
        "Morango      R$ 2,50 por Kg          R$ 2,20 por Kg\n",
        "Maçã            R$ 1,80 por Kg          R$ 1,50 por Kg\n",
        "\n",
        "\n",
        "Se o cliente comprar mais de 8 Kg em frutas ou o valor total da compra ultrapassar R$ 25,00, receberá ainda um desconto de 10% sobre este total. Escreva código para ler a quantidade (em Kg) de morangos e a quantidade (em Kg) de maças adquiridas e escreva o valor a ser pago pelo cliente.\n"
      ],
      "metadata": {
        "id": "A2yty5y-WnKp"
      }
    },
    {
      "cell_type": "code",
      "source": [
        "def calcular_preco(quantidade, preco_ate_5kg, preco_acima_5kg):\n",
        "    if quantidade <= 5:\n",
        "        return quantidade * preco_ate_5kg\n",
        "    return quantidade * preco_acima_5kg\n",
        "\n",
        "def aplicar_desconto(valor_total, quantidade_total_kg):\n",
        "    if quantidade_total_kg > 8 or valor_total > 25:\n",
        "        return valor_total * 0.90\n",
        "    return valor_total\n",
        "\n",
        "quantidade_morangos = float(input(\"Digite a quantidade de morangos em kg: \"))\n",
        "quantidade_macas = float(input(\"Digite a quantidade de maçãs em kg: \"))\n",
        "\n",
        "preco_morango = (2.50, 2.20)\n",
        "preco_maca = (1.80, 1.50)\n",
        "\n",
        "valor_morangos = calcular_preco(quantidade_morangos, *preco_morango)\n",
        "valor_macas = calcular_preco(quantidade_macas, *preco_maca)\n",
        "\n",
        "valor_total = valor_morangos + valor_macas\n",
        "quantidade_total_kg = quantidade_morangos + quantidade_macas\n",
        "valor_total = aplicar_desconto(valor_total, quantidade_total_kg)\n",
        "\n",
        "print(f\"Valor a ser pago: R$ {valor_total:.2f}\")\n"
      ],
      "metadata": {
        "id": "VTkglj59W--X"
      },
      "execution_count": null,
      "outputs": []
    },
    {
      "cell_type": "markdown",
      "source": [
        "1 - Desenvolva um gerador de tabuada, capaz de gerar a tabuada de qualquer número inteiro entre 1 a 10. Dada uma variável k em uma célula calcular a tabuada para o número. A saída deve ser conforme o exemplo abaixo:\n",
        "\n",
        "Tabuada de 5:\n",
        "5 X 1 = 5\n",
        "5 X 2 = 10\n",
        "…\n",
        "5 X 10 = 50\n"
      ],
      "metadata": {
        "id": "nvZ6SyLIXDiH"
      }
    },
    {
      "cell_type": "code",
      "source": [
        "num_var = int(input(\"Insert the desired number:\\n\"))\n",
        "for i in range(10):\n",
        "  print(f\"{num_var} X {i+1} = {num_var * (i+1)}\")"
      ],
      "metadata": {
        "colab": {
          "base_uri": "https://localhost:8080/"
        },
        "id": "OkSDlxkwXET3",
        "outputId": "65518937-7387-4e73-ead6-0b55acbbd12b"
      },
      "execution_count": null,
      "outputs": [
        {
          "output_type": "stream",
          "name": "stdout",
          "text": [
            "Insert the desired number:\n",
            "6\n",
            "6 X 1 = 6\n",
            "6 X 2 = 12\n",
            "6 X 3 = 18\n",
            "6 X 4 = 24\n",
            "6 X 5 = 30\n",
            "6 X 6 = 36\n",
            "6 X 7 = 42\n",
            "6 X 8 = 48\n",
            "6 X 9 = 54\n",
            "6 X 10 = 60\n"
          ]
        }
      ]
    },
    {
      "cell_type": "markdown",
      "source": [
        "2 - Utilize uma estrutura de repetição para imprimir todos os elementos das listas de temperatura e altura criadas acima.\n"
      ],
      "metadata": {
        "id": "MOlPD_beXgVv"
      }
    },
    {
      "cell_type": "code",
      "source": [
        "for country in countries_temperatures:\n",
        "  print(f\"{country}\\n\")\n",
        "for height in height_by_country:\n",
        "  print(f\"{height}\\n\")"
      ],
      "metadata": {
        "colab": {
          "base_uri": "https://localhost:8080/"
        },
        "id": "6o-ETNxzXhMd",
        "outputId": "fa983b54-be44-463e-f882-1158d61f9950"
      },
      "execution_count": null,
      "outputs": [
        {
          "output_type": "stream",
          "name": "stdout",
          "text": [
            "{'Country': 'USA', 'Temperature': 28}\n",
            "\n",
            "{'Country': 'Brazil', 'Temperature': 32}\n",
            "\n",
            "{'Country': 'Canada', 'Temperature': 15}\n",
            "\n",
            "{'Country': 'Germany', 'Temperature': 18}\n",
            "\n",
            "{'Country': 'Australia', 'Temperature': 26}\n",
            "\n",
            "{'Country': 'Japan', 'Temperature': 22}\n",
            "\n",
            "{'Country': 'India', 'Temperature': 35}\n",
            "\n",
            "{'Country': 'Russia', 'Temperature': 10}\n",
            "\n",
            "{'Country': 'South Africa', 'Temperature': 30}\n",
            "\n",
            "{'Country': 'France', 'Temperature': 20}\n",
            "\n",
            "Netherlands\n",
            "\n",
            "Denmark\n",
            "\n",
            "Germany\n",
            "\n",
            "Norway\n",
            "\n",
            "Sweden\n",
            "\n",
            "Brazil\n",
            "\n",
            "USA\n",
            "\n",
            "India\n",
            "\n",
            "Japan\n",
            "\n",
            "Mexico\n",
            "\n"
          ]
        }
      ]
    },
    {
      "cell_type": "markdown",
      "source": [
        "3 - Acesse chaves e valores do dicionário criado acima, e imprima cada item utilizando o operador de formatação.\n"
      ],
      "metadata": {
        "id": "D6XPyNtIYMMb"
      }
    }
  ]
}