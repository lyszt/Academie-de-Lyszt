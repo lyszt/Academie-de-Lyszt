{
  "nbformat": 4,
  "nbformat_minor": 0,
  "metadata": {
    "colab": {
      "provenance": []
    },
    "kernelspec": {
      "name": "python3",
      "display_name": "Python 3"
    },
    "language_info": {
      "name": "python"
    }
  },
  "cells": [
    {
      "cell_type": "markdown",
      "source": [
        "\n",
        "1 - Crie uma lista de temperaturas de dez países\n",
        "https://pt.wikipedia.org/wiki/Lista_de_pa%C3%ADses_por_extremos_meteorol%C3%B3gicos\n",
        "Escreva em cada célula de um notebook o acesso a elementos da lista para calcular a temperatura em graus Farenheit:\n",
        "C = (5 * (F-32) / 9).\n"
      ],
      "metadata": {
        "id": "uY5gEyJ57H51"
      }
    },
    {
      "cell_type": "code",
      "source": [],
      "metadata": {
        "id": "2woYv-iI7I58"
      },
      "execution_count": null,
      "outputs": []
    },
    {
      "cell_type": "code",
      "execution_count": null,
      "metadata": {
        "id": "PBZ-TjmMyguT"
      },
      "outputs": [],
      "source": [
        "countries_temperatures = [\n",
        "    {\"Country\": \"USA\", \"Temperature\": 28},\n",
        "    {\"Country\": \"Brazil\", \"Temperature\": 32},\n",
        "    {\"Country\": \"Canada\", \"Temperature\": 15},\n",
        "    {\"Country\": \"Germany\", \"Temperature\": 18},\n",
        "    {\"Country\": \"Australia\", \"Temperature\": 26},\n",
        "    {\"Country\": \"Japan\", \"Temperature\": 22},\n",
        "    {\"Country\": \"India\", \"Temperature\": 35},\n",
        "    {\"Country\": \"Russia\", \"Temperature\": 10},\n",
        "    {\"Country\": \"South Africa\", \"Temperature\": 30},\n",
        "    {\"Country\": \"France\", \"Temperature\": 20}\n",
        "]"
      ]
    },
    {
      "cell_type": "code",
      "source": [
        "for country in countries_temperatures:\n",
        "  print(f\"{country['Country']}: {(5 * (country['Temperature'] - 32) / 9):.2f} ° fahrenheit\")\n"
      ],
      "metadata": {
        "colab": {
          "base_uri": "https://localhost:8080/"
        },
        "id": "9i6dwxki2wpW",
        "outputId": "ed41d02d-5761-49c5-d47a-8cb8c21f9f0c"
      },
      "execution_count": null,
      "outputs": [
        {
          "output_type": "stream",
          "name": "stdout",
          "text": [
            "USA: -2.22 ° fahrenheit\n",
            "Brazil: 0.00 ° fahrenheit\n",
            "Canada: -9.44 ° fahrenheit\n",
            "Germany: -7.78 ° fahrenheit\n",
            "Australia: -3.33 ° fahrenheit\n",
            "Japan: -5.56 ° fahrenheit\n",
            "India: 1.67 ° fahrenheit\n",
            "Russia: -12.22 ° fahrenheit\n",
            "South Africa: -1.11 ° fahrenheit\n",
            "France: -6.67 ° fahrenheit\n"
          ]
        }
      ]
    },
    {
      "cell_type": "markdown",
      "source": [
        "Tendo como dados de entrada a altura média por país\n",
        "https://pt.wikipedia.org/wiki/Estatura\n",
        "crie um dicionário com 10 países, com chave como nome do país e valor como altura média, imprima em cada linha de um notebook o peso ideal:\n",
        "(72.7*altura) - 58\n",
        "por país, utilizando o dicionário e o operador de formatação (f'').\n"
      ],
      "metadata": {
        "id": "NFxJc0eR7KVM"
      }
    },
    {
      "cell_type": "code",
      "source": [
        "height_by_country = {\n",
        "    \"Netherlands\": 1.84,\n",
        "    \"Denmark\": 1.82,\n",
        "    \"Germany\": 1.81,\n",
        "    \"Norway\": 1.80,\n",
        "    \"Sweden\": 1.80,\n",
        "    \"Brazil\": 1.73,\n",
        "    \"USA\": 1.77,\n",
        "    \"India\": 1.65,\n",
        "    \"Japan\": 1.70,\n",
        "    \"Mexico\": 1.69\n",
        "}\n",
        "\n",
        "for country, height in height_by_country.items():\n",
        "    ideal_weight = (72.7 * height) - 58\n",
        "    print(f'{country}: Ideal weight = {ideal_weight:.2f} kg')"
      ],
      "metadata": {
        "colab": {
          "base_uri": "https://localhost:8080/"
        },
        "id": "na5_f1U07QCk",
        "outputId": "8602a1b3-42af-46b5-b5fb-619471b754d6"
      },
      "execution_count": null,
      "outputs": [
        {
          "output_type": "stream",
          "name": "stdout",
          "text": [
            "Netherlands: Ideal weight = 75.77 kg\n",
            "Denmark: Ideal weight = 74.31 kg\n",
            "Germany: Ideal weight = 73.59 kg\n",
            "Norway: Ideal weight = 72.86 kg\n",
            "Sweden: Ideal weight = 72.86 kg\n",
            "Brazil: Ideal weight = 67.77 kg\n",
            "USA: Ideal weight = 70.68 kg\n",
            "India: Ideal weight = 61.95 kg\n",
            "Japan: Ideal weight = 65.59 kg\n",
            "Mexico: Ideal weight = 64.86 kg\n"
          ]
        }
      ]
    },
    {
      "cell_type": "markdown",
      "source": [
        " Faça a conversão do valor de bolsas de pós-graduação de três países para Reais, imprimindo o salário de uma jornada de 40h semanais:\n",
        "https://exame.abril.com.br/carreira/confira-63-bolsas-para-estudar-em-paises-como-canada-eua-e-alemanha/\n",
        "Por hora trabalhada;\n",
        "Por mês;\n",
        "Por ano.\n",
        "**negrito**"
      ],
      "metadata": {
        "id": "zbNaNfM77vNr"
      }
    },
    {
      "cell_type": "code",
      "source": [
        "scholarships = {\n",
        "    'Canada': {\n",
        "        'monthly_cad': 2000,\n",
        "        'conversion_rate': 4.10\n",
        "    },\n",
        "    'USA': {\n",
        "        'monthly_usd': 2000,\n",
        "        'conversion_rate': 5.00\n",
        "    },\n",
        "    'Germany': {\n",
        "        'monthly_eur': 2000,\n",
        "        'conversion_rate': 5.60\n",
        "    }\n",
        "}\n",
        "converted_scholarships = {}\n",
        "for country, values in scholarships.items():\n",
        "    monthly_brl = values['monthly_cad'] * values['conversion_rate'] if country == 'Canada' else \\\n",
        "                  values['monthly_usd'] * values['conversion_rate'] if country == 'USA' else \\\n",
        "                  values['monthly_eur'] * values['conversion_rate']\n",
        "\n",
        "    hourly_brl = monthly_brl / 160\n",
        "    yearly_brl = monthly_brl * 12\n",
        "\n",
        "    converted_scholarships[country] = {\n",
        "        'mensal': round(monthly_brl, 2),\n",
        "        'por hora ': round(hourly_brl, 2),\n",
        "        'anual': round(yearly_brl, 2)\n",
        "    }\n",
        "\n",
        "print(converted_scholarships)\n"
      ],
      "metadata": {
        "id": "WppxR8m07m27",
        "colab": {
          "base_uri": "https://localhost:8080/"
        },
        "outputId": "363292d6-5c99-4d2a-b03f-092d0c00583e"
      },
      "execution_count": 2,
      "outputs": [
        {
          "output_type": "stream",
          "name": "stdout",
          "text": [
            "{'Canada': {'mensal': 8200.0, 'por hora ': 51.25, 'anual': 98400.0}, 'USA': {'mensal': 10000.0, 'por hora ': 62.5, 'anual': 120000.0}, 'Germany': {'mensal': 11200.0, 'por hora ': 70.0, 'anual': 134400.0}}\n"
          ]
        }
      ]
    }
  ]
}