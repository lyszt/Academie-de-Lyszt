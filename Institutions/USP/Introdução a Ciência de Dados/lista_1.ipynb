{
  "cells": [
    {
      "cell_type": "markdown",
      "metadata": {
        "id": "06s6ViQTg8g3"
      },
      "source": [
        "### Exercício-001\n",
        "Faça um programa que leia o nome de uma pessoa e mostre uma mensagem de boas-vindas."
      ]
    },
    {
      "cell_type": "code",
      "source": [
        "name = input(\"\")\n",
        "print(f\"Seja bem vindo, {name}\")"
      ],
      "metadata": {
        "id": "XRY9vZESFuGt",
        "colab": {
          "base_uri": "https://localhost:8080/"
        },
        "outputId": "7f256977-36d3-4509-e120-1ab977b58cd3"
      },
      "execution_count": 2,
      "outputs": [
        {
          "output_type": "stream",
          "name": "stdout",
          "text": [
            "Fafau\n",
            "Seja bem vindo, Fafau\n"
          ]
        }
      ]
    },
    {
      "cell_type": "markdown",
      "metadata": {
        "id": "8KxK1hQ0js7x"
      },
      "source": [
        "###Exercício-002\n",
        "Crie um programa que leia dois números e mostre a soma entre eles."
      ]
    },
    {
      "cell_type": "code",
      "source": [
        "n = [0,0]\n",
        "n[0] = int(input(\"Insira o número 1:\\n\"))\n",
        "n[1] = int(input(\"Insira o número 2:\\n\"))\n",
        "print(n[0]+n[1])"
      ],
      "metadata": {
        "colab": {
          "base_uri": "https://localhost:8080/"
        },
        "id": "19R9HNVEGLcu",
        "outputId": "ba584179-7023-474b-a382-78125d4ea744"
      },
      "execution_count": 3,
      "outputs": [
        {
          "output_type": "stream",
          "name": "stdout",
          "text": [
            "Insira o número 1:\n",
            "5\n",
            "Insira o número 2:\n",
            "10\n",
            "15\n"
          ]
        }
      ]
    },
    {
      "cell_type": "markdown",
      "metadata": {
        "id": "nEnaOG6Vh3Bs"
      },
      "source": [
        "###Exercício-003\n",
        "Faça um programa que leia algo pelo teclado e mostre na tela o seu tipo primitivo e todas as informações possíveis sobre ele. _Dica: crie uma variável e use `var.<TAB>` para ver as opções começadas com `is`_:"
      ]
    },
    {
      "cell_type": "code",
      "source": [
        "receive = input(\"\")\n",
        "print(\"É alfabético?\", receive.isalpha())\n",
        "print(\"É alfanumérico?\", receive.isalnum())\n",
        "print(\"É maiusculo?\", receive.isupper())\n",
        "print(\"É minusculo\", receive.islower())\n",
        "print(\"É decimal?\", receive.isdecimal())\n",
        "print(\"É um dígito?\", receive.isdigit())\n",
        "print(\"É um espaço?\", receive.isspace())\n",
        "print(\"É título?\", receive.istitle())"
      ],
      "metadata": {
        "colab": {
          "base_uri": "https://localhost:8080/"
        },
        "id": "VFHGdftsGb3T",
        "outputId": "ffd9f968-1cd0-4e5b-cf23-0d2618ffa225"
      },
      "execution_count": 4,
      "outputs": [
        {
          "output_type": "stream",
          "name": "stdout",
          "text": [
            "Banana\n",
            "É alfabético? True\n",
            "É alfanumérico? True\n",
            "É maiusculo? False\n",
            "É minusculo False\n",
            "É decimal? False\n",
            "É um dígito? False\n",
            "É um espaço? False\n",
            "É título? True\n"
          ]
        }
      ]
    },
    {
      "cell_type": "markdown",
      "metadata": {
        "id": "TCOQQ56Y5WqF"
      },
      "source": [
        "###Exercício-004\n",
        "Desenvolva um programa que leia as duas notas de um aluno, calcule e mostre a sua média."
      ]
    },
    {
      "cell_type": "code",
      "source": [
        "notas = []\n",
        "for i in range(2):\n",
        "  notas.append(int(input(f\"Insira a nota {i+1}\")))\n",
        "media = sum(notas)/len(notas)\n",
        "print(media)"
      ],
      "metadata": {
        "colab": {
          "base_uri": "https://localhost:8080/"
        },
        "id": "eBGR6yQuIj_b",
        "outputId": "20e978ce-dc70-46ef-ed5e-6a047806d6b5"
      },
      "execution_count": 13,
      "outputs": [
        {
          "output_type": "stream",
          "name": "stdout",
          "text": [
            "Insira a nota 15\n",
            "Insira a nota 210\n",
            "7.5\n"
          ]
        }
      ]
    },
    {
      "cell_type": "code",
      "source": [],
      "metadata": {
        "id": "KxX6WRi5JOk5"
      },
      "execution_count": null,
      "outputs": []
    },
    {
      "cell_type": "markdown",
      "metadata": {
        "id": "awABBN_97UMu"
      },
      "source": [
        "###Exercício-005\n",
        "Crie um programa que leia quanto dinheiro uma pessoa tem na carteira\n",
        "e mostre quantos Dólares ela pode comprar.\n",
        "Considere U\\$ 1,00 = R\\$ 3,27"
      ]
    },
    {
      "cell_type": "code",
      "source": [
        "convert_rate = 3.27\n",
        "wallet = int(input(\"Dinheiro:\"))\n",
        "converted = wallet/convert_rate\n",
        "print(f\"{converted} $ na carteira\")"
      ],
      "metadata": {
        "colab": {
          "base_uri": "https://localhost:8080/"
        },
        "id": "pX-MLUVhKkXD",
        "outputId": "14c55586-f51b-43c3-fa0e-c021983c13d5"
      },
      "execution_count": 15,
      "outputs": [
        {
          "output_type": "stream",
          "name": "stdout",
          "text": [
            "Dinheiro:1\n",
            "0.3058103975535168 $ na carteira\n"
          ]
        }
      ]
    },
    {
      "cell_type": "markdown",
      "metadata": {
        "id": "HTaF8y_BAF7w"
      },
      "source": [
        "###Exercício-006\n",
        "Um professor quer sortear um dos seus quatros alunos para apagar o quadro.\n",
        "Faça um programa que ajude ele, lendo o nome deles e escrevendo o nome do escolhido."
      ]
    },
    {
      "cell_type": "markdown",
      "metadata": {
        "id": "pOeLvi5opLLW"
      },
      "source": [
        "###Exercício-007\n",
        "Escreve uma programa que checa se um dicionário possui uma chave:"
      ]
    },
    {
      "cell_type": "markdown",
      "metadata": {
        "id": "RqaFzlHqBQ0m"
      },
      "source": [
        "###Exercício-008\n",
        "O mesmo professor do exercício anterior quer sortear a ordem de apresentação de trabalhos dos alunos.\n",
        "Faça um programa que leia o nome dos quatro alunos e mostre a ordem sorteada."
      ]
    },
    {
      "cell_type": "markdown",
      "metadata": {
        "id": "iaHgzjvfnqKm"
      },
      "source": [
        "###Exercício-009\n",
        "Escreva um programa que recebe uma chave e um valor e adiciona os dicionário `d = {0:10, 1:20}`:"
      ]
    },
    {
      "cell_type": "markdown",
      "metadata": {
        "id": "yoT-1VB-zrZU"
      },
      "source": [
        "###Exercício-010\n",
        "Escreva um programa que recebe dois números correspondentes aos índices de uma lista das cores `vermelho, verde, branco, preto, rosa e amarelo` e imprime as cores dos índices indicados.\n"
      ]
    },
    {
      "cell_type": "markdown",
      "metadata": {
        "id": "Wjx6KtrWEHEc"
      },
      "source": [
        "###Exercício-011\n",
        "Escreva um programa que faça o computador \"pensar\" em um número inteiro entre 0 e 5\n",
        "e peça para o usuário tentar descobrir qual foi o número escolhido pelo computador.\n",
        "O programa deverá escrever na tela se o usuário venceu ou perdeu."
      ]
    },
    {
      "cell_type": "markdown",
      "metadata": {
        "id": "1r7kE9wLEv37"
      },
      "source": [
        "###Exercício-012\n",
        "Escreva um programa que leia a velocidade de um carro. Se ele ultrapassar 80 km/h, mostre uma\n",
        "mensagem dizendo que ele foi multado. A multa vai custar R$ 7,00 por cada km acima do limite."
      ]
    },
    {
      "cell_type": "markdown",
      "metadata": {
        "id": "JPSBWmo2FEh-"
      },
      "source": [
        "###Exercício-013\n",
        "Crie um programa que leia um número inteiro e mostre na tela se ele é PAR ou ÍMPAR."
      ]
    },
    {
      "cell_type": "markdown",
      "metadata": {
        "id": "BDk5ypYtGLBb"
      },
      "source": [
        "###Exercício-014\n",
        "Desenvolva um programa que pergunte a distância de uma viagem em km. Calcule o preço da passagem,\n",
        "cobrando R\\$ 0,50 por km para viagens de até 200 km e R\\$ 0,45 para viagens mais longas."
      ]
    },
    {
      "cell_type": "markdown",
      "metadata": {
        "id": "kgnNKYZmGdZD"
      },
      "source": [
        "###Exercício-015\n",
        "Faça um programa que leia um ano qualquer e mostre se ele é BISSEXTO."
      ]
    },
    {
      "cell_type": "markdown",
      "metadata": {
        "id": "SnSc5iyTTU_e"
      },
      "source": [
        "###Exercício-016\n",
        "Faça um programa que leia o sexo de uma pessoa, mas só aceite os valores 'M' ou 'F'.\n",
        "Caso esteja errado, peça a digitação novamente até ter um valor correto."
      ]
    },
    {
      "cell_type": "markdown",
      "metadata": {
        "id": "CyP7CbmCUGhH"
      },
      "source": [
        "###Exercício-017\n",
        "Crie um programa que leia dois valores e mostre um menu como o abaixo na tela:\n",
        "\n",
        "[ 1 ] Somar\n",
        "\n",
        "[ 2 ] Multiplicar\n",
        "\n",
        "[ 3 ] Maior\n",
        "\n",
        "[ 4 ] Novos Números\n",
        "\n",
        "[ 5 ] Sair do Programa\n",
        "\n",
        "Seu programa deverá realizar a operação solicitada em cada caso."
      ]
    },
    {
      "cell_type": "markdown",
      "metadata": {
        "id": "WwY91EJmSBoh"
      },
      "source": [
        "###Exercício-018\n",
        "Crie um programa que leia o ano de nascimento de sete pessoas. No final, mostre\n",
        "quantas pessoas ainda não atingiram a maioridade e quantas já são maiores."
      ]
    },
    {
      "cell_type": "markdown",
      "metadata": {
        "id": "TRtqiVKuSh4F"
      },
      "source": [
        "###Exercício-019\n",
        "Faça um programa que leia o peso de cinco pessoas.\n",
        "No final, mostre qual foi o maior e o menor peso lidos."
      ]
    },
    {
      "cell_type": "markdown",
      "metadata": {
        "id": "RRAw_WY9S-G3"
      },
      "source": [
        "###Exercício-020\n",
        "Desenvolva um programa que leia o nome, idade e sexo de 4 pessoas. No final do programa, mostre:\n",
        "- A média de idade do grupo.\n",
        "- Qual é o nome do homem mais velho.\n",
        "- Quantas mulheres têm menos de 20 anos."
      ]
    },
    {
      "cell_type": "markdown",
      "metadata": {
        "id": "bsY-uxxVqloF"
      },
      "source": [
        "###Exercício-021\n",
        "Escreva uma função em python que recebe 3 números e encontra o maior valor. Execute a função com um exemplo:"
      ]
    },
    {
      "cell_type": "markdown",
      "metadata": {
        "id": "OkKN4-Qdrh2X"
      },
      "source": [
        "###Exerícios-022\n",
        "Escreve uma funão que recebe uma lista e retorna os elementos únicos da lista."
      ]
    },
    {
      "cell_type": "markdown",
      "metadata": {
        "id": "l22vUPfusTph"
      },
      "source": [
        "### Exercício-023\n",
        "Esceva uma função em python que recebe uma cadeia de caracteres separada por hifens e retorna uma cadeida de caracteres em ordem alfabética concatenada por hifens."
      ]
    },
    {
      "cell_type": "markdown",
      "metadata": {
        "id": "079kJGKivdu3"
      },
      "source": [
        "### Exercício-024\n",
        "Escreva uma função em python que checa se um número é primo ou não."
      ]
    },
    {
      "cell_type": "markdown",
      "metadata": {
        "id": "6FpHcjlcwQhX"
      },
      "source": [
        "###Exercício-025\n",
        "\n",
        "Escreva uma função em python que aceita uma cadeida de caracteres e calcula o número de letras maiúsculas e minúsculas."
      ]
    }
  ],
  "metadata": {
    "colab": {
      "provenance": []
    },
    "kernelspec": {
      "display_name": "Python 3",
      "name": "python3"
    }
  },
  "nbformat": 4,
  "nbformat_minor": 0
}