{
  "cells": [
    {
      "cell_type": "markdown",
      "metadata": {
        "id": "06s6ViQTg8g3"
      },
      "source": [
        "### Exercício-001\n",
        "Faça um programa que leia o nome de uma pessoa e mostre uma mensagem de boas-vindas."
      ]
    },
    {
      "cell_type": "code",
      "execution_count": null,
      "metadata": {
        "colab": {
          "base_uri": "https://localhost:8080/"
        },
        "id": "XRY9vZESFuGt",
        "outputId": "7f256977-36d3-4509-e120-1ab977b58cd3"
      },
      "outputs": [
        {
          "name": "stdout",
          "output_type": "stream",
          "text": [
            "Fafau\n",
            "Seja bem vindo, Fafau\n"
          ]
        }
      ],
      "source": [
        "name = input(\"\")\n",
        "print(f\"Seja bem vindo, {name}\")"
      ]
    },
    {
      "cell_type": "markdown",
      "metadata": {
        "id": "8KxK1hQ0js7x"
      },
      "source": [
        "###Exercício-002\n",
        "Crie um programa que leia dois números e mostre a soma entre eles."
      ]
    },
    {
      "cell_type": "code",
      "execution_count": null,
      "metadata": {
        "colab": {
          "base_uri": "https://localhost:8080/"
        },
        "id": "19R9HNVEGLcu",
        "outputId": "ba584179-7023-474b-a382-78125d4ea744"
      },
      "outputs": [
        {
          "name": "stdout",
          "output_type": "stream",
          "text": [
            "Insira o número 1:\n",
            "5\n",
            "Insira o número 2:\n",
            "10\n",
            "15\n"
          ]
        }
      ],
      "source": [
        "n = [0,0]\n",
        "n[0] = int(input(\"Insira o número 1:\\n\"))\n",
        "n[1] = int(input(\"Insira o número 2:\\n\"))\n",
        "print(n[0]+n[1])"
      ]
    },
    {
      "cell_type": "markdown",
      "metadata": {
        "id": "nEnaOG6Vh3Bs"
      },
      "source": [
        "###Exercício-003\n",
        "Faça um programa que leia algo pelo teclado e mostre na tela o seu tipo primitivo e todas as informações possíveis sobre ele. _Dica: crie uma variável e use `var.<TAB>` para ver as opções começadas com `is`_:"
      ]
    },
    {
      "cell_type": "code",
      "execution_count": null,
      "metadata": {
        "colab": {
          "base_uri": "https://localhost:8080/"
        },
        "id": "VFHGdftsGb3T",
        "outputId": "ffd9f968-1cd0-4e5b-cf23-0d2618ffa225"
      },
      "outputs": [
        {
          "name": "stdout",
          "output_type": "stream",
          "text": [
            "Banana\n",
            "É alfabético? True\n",
            "É alfanumérico? True\n",
            "É maiusculo? False\n",
            "É minusculo False\n",
            "É decimal? False\n",
            "É um dígito? False\n",
            "É um espaço? False\n",
            "É título? True\n"
          ]
        }
      ],
      "source": [
        "receive = input(\"\")\n",
        "print(\"É alfabético?\", receive.isalpha())\n",
        "print(\"É alfanumérico?\", receive.isalnum())\n",
        "print(\"É maiusculo?\", receive.isupper())\n",
        "print(\"É minusculo\", receive.islower())\n",
        "print(\"É decimal?\", receive.isdecimal())\n",
        "print(\"É um dígito?\", receive.isdigit())\n",
        "print(\"É um espaço?\", receive.isspace())\n",
        "print(\"É título?\", receive.istitle())"
      ]
    },
    {
      "cell_type": "markdown",
      "metadata": {
        "id": "TCOQQ56Y5WqF"
      },
      "source": [
        "###Exercício-004\n",
        "Desenvolva um programa que leia as duas notas de um aluno, calcule e mostre a sua média."
      ]
    },
    {
      "cell_type": "code",
      "execution_count": null,
      "metadata": {
        "colab": {
          "base_uri": "https://localhost:8080/"
        },
        "id": "eBGR6yQuIj_b",
        "outputId": "20e978ce-dc70-46ef-ed5e-6a047806d6b5"
      },
      "outputs": [
        {
          "name": "stdout",
          "output_type": "stream",
          "text": [
            "Insira a nota 15\n",
            "Insira a nota 210\n",
            "7.5\n"
          ]
        }
      ],
      "source": [
        "notas = []\n",
        "for i in range(2):\n",
        "  notas.append(int(input(f\"Insira a nota {i+1}\")))\n",
        "media = sum(notas)/len(notas)\n",
        "print(media)"
      ]
    },
    {
      "cell_type": "code",
      "execution_count": null,
      "metadata": {
        "id": "KxX6WRi5JOk5"
      },
      "outputs": [],
      "source": []
    },
    {
      "cell_type": "markdown",
      "metadata": {
        "id": "awABBN_97UMu"
      },
      "source": [
        "###Exercício-005\n",
        "Crie um programa que leia quanto dinheiro uma pessoa tem na carteira\n",
        "e mostre quantos Dólares ela pode comprar.\n",
        "Considere U\\$ 1,00 = R\\$ 3,27"
      ]
    },
    {
      "cell_type": "code",
      "execution_count": null,
      "metadata": {
        "colab": {
          "base_uri": "https://localhost:8080/"
        },
        "id": "pX-MLUVhKkXD",
        "outputId": "14c55586-f51b-43c3-fa0e-c021983c13d5"
      },
      "outputs": [
        {
          "name": "stdout",
          "output_type": "stream",
          "text": [
            "Dinheiro:1\n",
            "0.3058103975535168 $ na carteira\n"
          ]
        }
      ],
      "source": [
        "convert_rate = 3.27\n",
        "wallet = int(input(\"Dinheiro:\"))\n",
        "converted = wallet/convert_rate\n",
        "print(f\"{converted} $ na carteira\")"
      ]
    },
    {
      "cell_type": "markdown",
      "metadata": {
        "id": "HTaF8y_BAF7w"
      },
      "source": [
        "###Exercício-006\n",
        "Um professor quer sortear um dos seus quatros alunos para apagar o quadro.\n",
        "Faça um programa que ajude ele, lendo o nome deles e escrevendo o nome do escolhido."
      ]
    },
    {
      "cell_type": "code",
      "execution_count": null,
      "metadata": {
        "colab": {
          "base_uri": "https://localhost:8080/"
        },
        "id": "HO8IvyyRfPbj",
        "outputId": "a0df778b-92a2-48b6-ed51-a9147d2c6ded"
      },
      "outputs": [
        {
          "name": "stdout",
          "output_type": "stream",
          "text": [
            "Insira o nome do aluno:\n",
            "Bob\n",
            "Insira o nome do aluno:\n",
            "Fafau\n",
            "Insira o nome do aluno:\n",
            "Rogerio\n",
            "Insira o nome do aluno:\n",
            "Boneca\n",
            "Bob\n"
          ]
        }
      ],
      "source": [
        "import random\n",
        "alunos = []\n",
        "for i in range(4):\n",
        "  alunos.append(input(\"Insira o nome do aluno:\\n\"))\n",
        "print(random.choice(alunos))"
      ]
    },
    {
      "cell_type": "markdown",
      "metadata": {
        "id": "pOeLvi5opLLW"
      },
      "source": [
        "###Exercício-007\n",
        "Escreve uma programa que checa se um dicionário possui uma chave:"
      ]
    },
    {
      "cell_type": "code",
      "execution_count": null,
      "metadata": {
        "colab": {
          "base_uri": "https://localhost:8080/"
        },
        "id": "n2C8OF8sflNy",
        "outputId": "80f772ff-dbe9-428d-96b0-a5e68dcefeaa"
      },
      "outputs": [
        {
          "name": "stdout",
          "output_type": "stream",
          "text": [
            "we have bob\n"
          ]
        }
      ],
      "source": [
        "import math\n",
        "\n",
        "dictionary = {'bob': 1}\n",
        "def nameDict(key,dict):\n",
        "  if(key in dict):\n",
        "    print(f'we have {key}')\n",
        "\n",
        "nameDict('bob',dictionary)"
      ]
    },
    {
      "cell_type": "markdown",
      "metadata": {
        "id": "RqaFzlHqBQ0m"
      },
      "source": [
        "###Exercício-008\n",
        "O mesmo professor do exercício anterior quer sortear a ordem de apresentação de trabalhos dos alunos.\n",
        "Faça um programa que leia o nome dos quatro alunos e mostre a ordem sorteada."
      ]
    },
    {
      "cell_type": "code",
      "execution_count": null,
      "metadata": {
        "colab": {
          "base_uri": "https://localhost:8080/"
        },
        "id": "WNSBIdWJhYo8",
        "outputId": "38482651-98b4-4f56-d1f5-20094982b3e2"
      },
      "outputs": [
        {
          "name": "stdout",
          "output_type": "stream",
          "text": [
            "Insira o nome do aluno:\n",
            "Serra Eletrica\n",
            "Insira o nome do aluno:\n",
            "Inimigo do Sera Eletrica\n",
            "Insira o nome do aluno:\n",
            "Bob Bobinski de la Sierra Nocturna Bubinoso\n",
            "Insira o nome do aluno:\n",
            "Ronaldo\n",
            "Sorteado n°1 é Inimigo do Sera Eletrica\n",
            "Sorteado n°2 é Bob Bobinski de la Sierra Nocturna Bubinoso\n",
            "Sorteado n°3 é Ronaldo\n",
            "Sorteado n°4 é Serra Eletrica\n"
          ]
        }
      ],
      "source": [
        "import random\n",
        "alunos = []\n",
        "for i in range(4):\n",
        "  alunos.append(input(\"Insira o nome do aluno:\\n\"))\n",
        "sorteados = []\n",
        "for i in range(4):\n",
        "  while((sorteado := random.choice(alunos)) and not sorteado in sorteados):\n",
        "    sorteados.append(sorteado)\n",
        "    if sorteado in sorteados: continue\n",
        "  print(f\"Sorteado n°{i+1} é {sorteados[i]}\")"
      ]
    },
    {
      "cell_type": "markdown",
      "metadata": {
        "id": "iaHgzjvfnqKm"
      },
      "source": [
        "###Exercício-009\n",
        "Escreva um programa que recebe uma chave e um valor e adiciona os dicionário `d = {0:10, 1:20}`:"
      ]
    },
    {
      "cell_type": "code",
      "execution_count": null,
      "metadata": {
        "colab": {
          "base_uri": "https://localhost:8080/"
        },
        "id": "seYKtI5BbU9S",
        "outputId": "d199e57c-ce6b-4670-d53d-001e541d3ebc"
      },
      "outputs": [
        {
          "name": "stdout",
          "output_type": "stream",
          "text": [
            "30\n",
            "20\n",
            "Chave 0 - Valor: 30\n",
            "Chave 1 - Valor: 20\n"
          ]
        }
      ],
      "source": [
        "d = {0:10, 1:20}\n",
        "for i in range(2):\n",
        "  d[i] = int(input(\"\"))\n",
        "for key,value in d.items():\n",
        "  print(f\"Chave {key} - Valor: {value}\")"
      ]
    },
    {
      "cell_type": "markdown",
      "metadata": {
        "id": "yoT-1VB-zrZU"
      },
      "source": [
        "###Exercício-010\n",
        "Escreva um programa que recebe dois números correspondentes aos índices de uma lista das cores `vermelho, verde, branco, preto, rosa e amarelo` e imprime as cores dos índices indicados.\n"
      ]
    },
    {
      "cell_type": "code",
      "execution_count": null,
      "metadata": {
        "colab": {
          "base_uri": "https://localhost:8080/"
        },
        "id": "AGiM6p8EcfnC",
        "outputId": "a458b007-d36e-49ab-de0d-53072b99d9fa"
      },
      "outputs": [
        {
          "name": "stdout",
          "output_type": "stream",
          "text": [
            "1\n",
            "2\n",
            "verde\n",
            "branco\n"
          ]
        }
      ],
      "source": [
        "Cores = [\"Vermelho\",\"verde\",\"branco\",\"preto\",\"rosa\",\"amarelo\"]\n",
        "Escolha = [int(input(\"\")),int(input(\"\"))]\n",
        "for i in range(2):\n",
        "  print(Cores[Escolha[i]])"
      ]
    },
    {
      "cell_type": "markdown",
      "metadata": {
        "id": "Wjx6KtrWEHEc"
      },
      "source": [
        "###Exercício-011\n",
        "Escreva um programa que faça o computador \"pensar\" em um número inteiro entre 0 e 5\n",
        "e peça para o usuário tentar descobrir qual foi o número escolhido pelo computador.\n",
        "O programa deverá escrever na tela se o usuário venceu ou perdeu."
      ]
    },
    {
      "cell_type": "code",
      "execution_count": null,
      "metadata": {
        "colab": {
          "base_uri": "https://localhost:8080/"
        },
        "id": "b1elJ0Qweq2x",
        "outputId": "512c6110-6a40-484d-d9b4-bc471ee2f3a1"
      },
      "outputs": [
        {
          "name": "stdout",
          "output_type": "stream",
          "text": [
            "2\n",
            "Que pena, não foi dessa vez :(\n"
          ]
        }
      ],
      "source": [
        "import random\n",
        "pick = random.randint(0,5)\n",
        "guess = int(input(\"\"))\n",
        "print(\"Parabéns, você venceu!\") if(guess == pick) else print(\"Que pena, não foi dessa vez :(\")"
      ]
    },
    {
      "cell_type": "markdown",
      "metadata": {
        "id": "c51ZteKcfSU-"
      },
      "source": [
        "Teste adicional: Loteria"
      ]
    },
    {
      "cell_type": "code",
      "execution_count": null,
      "metadata": {
        "colab": {
          "background_save": true
        },
        "id": "vpWCj2wpfVq5"
      },
      "outputs": [],
      "source": [
        "import random\n",
        "occurences = 0\n",
        "tries = 0\n",
        "while True:\n",
        "  tries+=1\n",
        "  if tries%5 == 0: print({f\"{tries} bilhetes comprados\"})\n",
        "  pick = [random.randint(0,60) for i in range(6)]\n",
        "  guess = [random.randint(0,60) for i in range(6)]\n",
        "  if(guess == pick): print(\"Parabéns, você é o novo milionário!\")\n",
        "  if(guess == pick): break\n",
        "  else:\n",
        "    occurences += 1\n",
        "print(f\"Probabilidade observada: {(occurences/tries)*100})% de chances\")"
      ]
    },
    {
      "cell_type": "code",
      "execution_count": null,
      "metadata": {
        "id": "M5uEfJCfkdYj"
      },
      "outputs": [],
      "source": []
    },
    {
      "cell_type": "markdown",
      "metadata": {
        "id": "1r7kE9wLEv37"
      },
      "source": [
        "###Exercício-012\n",
        "Escreva um programa que leia a velocidade de um carro. Se ele ultrapassar 80 km/h, mostre uma\n",
        "mensagem dizendo que ele foi multado. A multa vai custar R$ 7,00 por cada km acima do limite."
      ]
    },
    {
      "cell_type": "markdown",
      "metadata": {
        "id": "JPSBWmo2FEh-"
      },
      "source": [
        "###Exercício-013\n",
        "Crie um programa que leia um número inteiro e mostre na tela se ele é PAR ou ÍMPAR."
      ]
    },
    {
      "cell_type": "markdown",
      "metadata": {
        "id": "BDk5ypYtGLBb"
      },
      "source": [
        "###Exercício-014\n",
        "Desenvolva um programa que pergunte a distância de uma viagem em km. Calcule o preço da passagem,\n",
        "cobrando R\\$ 0,50 por km para viagens de até 200 km e R\\$ 0,45 para viagens mais longas."
      ]
    },
    {
      "cell_type": "markdown",
      "metadata": {
        "id": "kgnNKYZmGdZD"
      },
      "source": [
        "###Exercício-015\n",
        "Faça um programa que leia um ano qualquer e mostre se ele é BISSEXTO."
      ]
    },
    {
      "cell_type": "markdown",
      "metadata": {
        "id": "SnSc5iyTTU_e"
      },
      "source": [
        "###Exercício-016\n",
        "Faça um programa que leia o sexo de uma pessoa, mas só aceite os valores 'M' ou 'F'.\n",
        "Caso esteja errado, peça a digitação novamente até ter um valor correto."
      ]
    },
    {
      "cell_type": "markdown",
      "metadata": {
        "id": "CyP7CbmCUGhH"
      },
      "source": [
        "###Exercício-017\n",
        "Crie um programa que leia dois valores e mostre um menu como o abaixo na tela:\n",
        "\n",
        "[ 1 ] Somar\n",
        "\n",
        "[ 2 ] Multiplicar\n",
        "\n",
        "[ 3 ] Maior\n",
        "\n",
        "[ 4 ] Novos Números\n",
        "\n",
        "[ 5 ] Sair do Programa\n",
        "\n",
        "Seu programa deverá realizar a operação solicitada em cada caso."
      ]
    },
    {
      "cell_type": "markdown",
      "metadata": {
        "id": "WwY91EJmSBoh"
      },
      "source": [
        "###Exercício-018\n",
        "Crie um programa que leia o ano de nascimento de sete pessoas. No final, mostre\n",
        "quantas pessoas ainda não atingiram a maioridade e quantas já são maiores."
      ]
    },
    {
      "cell_type": "markdown",
      "metadata": {
        "id": "TRtqiVKuSh4F"
      },
      "source": [
        "###Exercício-019\n",
        "Faça um programa que leia o peso de cinco pessoas.\n",
        "No final, mostre qual foi o maior e o menor peso lidos."
      ]
    },
    {
      "cell_type": "markdown",
      "metadata": {
        "id": "RRAw_WY9S-G3"
      },
      "source": [
        "###Exercício-020\n",
        "Desenvolva um programa que leia o nome, idade e sexo de 4 pessoas. No final do programa, mostre:\n",
        "- A média de idade do grupo.\n",
        "- Qual é o nome do homem mais velho.\n",
        "- Quantas mulheres têm menos de 20 anos."
      ]
    },
    {
      "cell_type": "markdown",
      "metadata": {
        "id": "bsY-uxxVqloF"
      },
      "source": [
        "###Exercício-021\n",
        "Escreva uma função em python que recebe 3 números e encontra o maior valor. Execute a função com um exemplo:"
      ]
    },
    {
      "cell_type": "markdown",
      "metadata": {
        "id": "OkKN4-Qdrh2X"
      },
      "source": [
        "###Exerícios-022\n",
        "Escreve uma funão que recebe uma lista e retorna os elementos únicos da lista."
      ]
    },
    {
      "cell_type": "markdown",
      "metadata": {
        "id": "l22vUPfusTph"
      },
      "source": [
        "### Exercício-023\n",
        "Esceva uma função em python que recebe uma cadeia de caracteres separada por hifens e retorna uma cadeida de caracteres em ordem alfabética concatenada por hifens."
      ]
    },
    {
      "cell_type": "markdown",
      "metadata": {
        "id": "079kJGKivdu3"
      },
      "source": [
        "### Exercício-024\n",
        "Escreva uma função em python que checa se um número é primo ou não."
      ]
    },
    {
      "cell_type": "markdown",
      "metadata": {
        "id": "6FpHcjlcwQhX"
      },
      "source": [
        "###Exercício-025\n",
        "\n",
        "Escreva uma função em python que aceita uma cadeida de caracteres e calcula o número de letras maiúsculas e minúsculas."
      ]
    }
  ],
  "metadata": {
    "colab": {
      "provenance": []
    },
    "kernelspec": {
      "display_name": "Python 3",
      "name": "python3"
    }
  },
  "nbformat": 4,
  "nbformat_minor": 0
}