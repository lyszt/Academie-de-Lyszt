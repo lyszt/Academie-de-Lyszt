{
  "nbformat": 4,
  "nbformat_minor": 0,
  "metadata": {
    "colab": {
      "provenance": []
    },
    "kernelspec": {
      "name": "python3",
      "display_name": "Python 3"
    },
    "language_info": {
      "name": "python"
    }
  },
  "cells": [
    {
      "cell_type": "markdown",
      "source": [
        "1 - Desenvolva um gerador de tabuada, capaz de gerar a tabuada de qualquer número inteiro entre 1 a 10. Dada uma variável k em uma célula calcular a tabuada para o número. A saída deve ser conforme o exemplo abaixo:"
      ],
      "metadata": {
        "id": "ej7Y2KIxaFpK"
      }
    },
    {
      "cell_type": "code",
      "execution_count": null,
      "metadata": {
        "colab": {
          "base_uri": "https://localhost:8080/"
        },
        "id": "wWks9VhZVEoZ",
        "outputId": "2887330c-f6dd-4303-9b6d-a93454a83450"
      },
      "outputs": [
        {
          "output_type": "stream",
          "name": "stdout",
          "text": [
            "Insira o número:\n",
            "5\n",
            "1 x 5: 5\n",
            "2 x 5: 10\n",
            "3 x 5: 15\n",
            "4 x 5: 20\n",
            "5 x 5: 25\n",
            "6 x 5: 30\n",
            "7 x 5: 35\n",
            "8 x 5: 40\n",
            "9 x 5: 45\n",
            "10 x 5: 50\n"
          ]
        }
      ],
      "source": [
        "k = int(input(\"Insira o número:\\n\"))\n",
        "\n",
        "for i in range(10):\n",
        "  i += 1\n",
        "  print(f\"{i} x {k}: {i*k}\")"
      ]
    },
    {
      "cell_type": "markdown",
      "source": [
        "2 - Utilize uma estrutura de repetição para imprimir todos os elementos das listas de temperatura e altura criadas acima.\n",
        "(Estão em um arquivo diferente, por isso serão redefinidas)"
      ],
      "metadata": {
        "id": "g6GO25YfapT3"
      }
    },
    {
      "cell_type": "code",
      "source": [
        "countries_temperatures = {\n",
        "    \"USA\": 28,\n",
        "    \"Brazil\": 32,\n",
        "    \"Canada\": 15,\n",
        "    \"Germany\": 18,\n",
        "    \"Australia\": 26,\n",
        "    \"Japan\": 22,\n",
        "    \"India\": 35,\n",
        "    \"Russia\": 10,\n",
        "    \"South Africa\": 30,\n",
        "    \"France\": 20\n",
        "}\n"
      ],
      "metadata": {
        "id": "M-eWjW3kasa2"
      },
      "execution_count": null,
      "outputs": []
    },
    {
      "cell_type": "code",
      "source": [
        "countries_heights = {\n",
        "    \"USA\": 175,\n",
        "    \"Brazil\": 173,\n",
        "    \"Canada\": 178,\n",
        "    \"Germany\": 180,\n",
        "    \"Australia\": 177,\n",
        "    \"Japan\": 171,\n",
        "    \"India\": 165,\n",
        "    \"Russia\": 178,\n",
        "    \"South Africa\": 167,\n",
        "    \"France\": 175\n",
        "}\n"
      ],
      "metadata": {
        "id": "hgthtr0CawVN"
      },
      "execution_count": null,
      "outputs": []
    },
    {
      "cell_type": "code",
      "source": [
        "for country,value in countries_temperatures.items():\n",
        " print(country, value)\n",
        "for country, value in countries_heights.items():\n",
        " print(country, value)\n"
      ],
      "metadata": {
        "colab": {
          "base_uri": "https://localhost:8080/"
        },
        "id": "DRoXYLtZazJV",
        "outputId": "67539f15-e6e8-4a74-8291-4ed462452f23"
      },
      "execution_count": null,
      "outputs": [
        {
          "output_type": "stream",
          "name": "stdout",
          "text": [
            "USA\n",
            "Brazil\n",
            "Canada\n",
            "Germany\n",
            "Australia\n",
            "Japan\n",
            "India\n",
            "Russia\n",
            "South Africa\n",
            "France\n",
            "USA\n",
            "Brazil\n",
            "Canada\n",
            "Germany\n",
            "Australia\n",
            "Japan\n",
            "India\n",
            "Russia\n",
            "South Africa\n",
            "France\n"
          ]
        }
      ]
    },
    {
      "cell_type": "markdown",
      "source": [
        "3 - Acesse chaves e valores do dicionário criado acima, e imprima cada item utilizando o operador de formatação.\n"
      ],
      "metadata": {
        "id": "nsJxuOKOa6yt"
      }
    },
    {
      "cell_type": "code",
      "source": [
        "for country,value in countries_temperatures.items():\n",
        " print(f\"País: {country} - Temperatura: {value}\")\n",
        "for country, value in countries_heights.items():\n",
        " print(f\"País: {country} - Altura: {value}\")"
      ],
      "metadata": {
        "colab": {
          "base_uri": "https://localhost:8080/"
        },
        "id": "YgEp5aCDa-Vl",
        "outputId": "cd8b1328-3aa4-44a9-8869-1605f5930ecd"
      },
      "execution_count": null,
      "outputs": [
        {
          "output_type": "stream",
          "name": "stdout",
          "text": [
            "País: USA - Temperatura: 28\n",
            "País: Brazil - Temperatura: 32\n",
            "País: Canada - Temperatura: 15\n",
            "País: Germany - Temperatura: 18\n",
            "País: Australia - Temperatura: 26\n",
            "País: Japan - Temperatura: 22\n",
            "País: India - Temperatura: 35\n",
            "País: Russia - Temperatura: 10\n",
            "País: South Africa - Temperatura: 30\n",
            "País: France - Temperatura: 20\n",
            "País: USA - Altura: 175\n",
            "País: Brazil - Altura: 173\n",
            "País: Canada - Altura: 178\n",
            "País: Germany - Altura: 180\n",
            "País: Australia - Altura: 177\n",
            "País: Japan - Altura: 171\n",
            "País: India - Altura: 165\n",
            "País: Russia - Altura: 178\n",
            "País: South Africa - Altura: 167\n",
            "País: France - Altura: 175\n"
          ]
        }
      ]
    },
    {
      "cell_type": "markdown",
      "source": [
        "4 - Funções\n",
        "1 - Faça uma função que retorne o reverso de um número inteiro informado. Por exemplo: 127 -> 721."
      ],
      "metadata": {
        "id": "h975qtXiew9b"
      }
    },
    {
      "cell_type": "code",
      "source": [
        "def reverse(original)\n",
        "  original_str = str(original)[::-1]\n",
        "  print(original_str)\n",
        "\n",
        "original = int(input(\"Insira um número:\"))\n",
        "reverse(original)"
      ],
      "metadata": {
        "colab": {
          "base_uri": "https://localhost:8080/"
        },
        "id": "AIMZX9XsfRhI",
        "outputId": "261845a1-6e8d-4175-9b31-f48fb7a85959"
      },
      "execution_count": 28,
      "outputs": [
        {
          "output_type": "stream",
          "name": "stdout",
          "text": [
            "Insira um número:7484\n",
            "4847\n"
          ]
        }
      ]
    },
    {
      "cell_type": "markdown",
      "source": [
        "2 - Faça uma função para converter, que dado um valor numérico de temperatura e um valor de caractere para a escala (Celsius ou Farenheit) converta o número para a escala desejada e retorna o valor.\n"
      ],
      "metadata": {
        "id": "muOR9N8efgyn"
      }
    },
    {
      "cell_type": "code",
      "source": [
        "\n",
        "def convert_temperature(temperature, scale):\n",
        "  if scale.upper() == 'C':\n",
        "    return (temperature - 32) * 5 / 9\n",
        "  elif scale.upper() == 'F':\n",
        "    return (temperature * 9 / 5) + 32\n",
        "  else:\n",
        "    return \"Escala inválida. Utilize 'C' para Celsius ou 'F' para Fahrenheit.\"\n",
        "\n",
        "temperature = int(input(\"Insira uma temperatura:\"))\n",
        "scale = input(\"Insira a escala (C/F):\")\n",
        "print(convert_temperature(temperature, scale))\n"
      ],
      "metadata": {
        "colab": {
          "base_uri": "https://localhost:8080/"
        },
        "id": "kvpHGeaTfiCX",
        "outputId": "a1762295-ab9f-44fc-ed6f-17c3cadbb9ed"
      },
      "execution_count": 31,
      "outputs": [
        {
          "output_type": "stream",
          "name": "stdout",
          "text": [
            "Insira uma temperatura:32\n",
            "Insira a escala (C/F):C\n",
            "0.0\n"
          ]
        }
      ]
    },
    {
      "cell_type": "markdown",
      "source": [
        "3 - Faça uma programa que converta da notação de 24 horas para a notação de 12 horas. Por exemplo, o programa deve converter 14:25 em 2:25 P.M. A entrada é dada em dois inteiros.\n"
      ],
      "metadata": {
        "id": "rpU1K31Zf7Ue"
      }
    },
    {
      "cell_type": "code",
      "source": [
        "horas_24 = int(input(\"Insira as horas:\"))\n",
        "minutos_24 = int(input(\"Insira os minutos:\"))\n",
        "\n",
        "def convert24_12(horas_24,minutos_24):\n",
        "  horas_12 = horas_24 % 12\n",
        "  notation =\"P.M\" if horas_24 >= 13 else \"A.M\"\n",
        "\n",
        "  if minutos_24 > 60:\n",
        "    if(horas_12 % 12)>= 0 and (horas_12%12) <= 13:\n",
        "      notation = \"A.M\"\n",
        "    horas_12 = (horas_12 +(round(minutos_24 / 60)))%12\n",
        "    minutos_24 = minutos_24 % 60\n",
        "  return [horas_12,minutos_24,notation]\n",
        "\n",
        "\n",
        "horario_24 = convert24_12(horas_24,minutos_24)\n",
        "print(horario_24)"
      ],
      "metadata": {
        "colab": {
          "base_uri": "https://localhost:8080/"
        },
        "id": "IAXtdcjnf8P-",
        "outputId": "dfa5272a-e8c8-48e5-c9a4-553950f8d9a0"
      },
      "execution_count": 53,
      "outputs": [
        {
          "output_type": "stream",
          "name": "stdout",
          "text": [
            "Insira as horas:23\n",
            "Insira os minutos:82\n",
            "[0, 22, 'A.M']\n"
          ]
        }
      ]
    }
  ]
}